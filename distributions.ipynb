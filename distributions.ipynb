{
 "cells": [
  {
   "cell_type": "markdown",
   "metadata": {},
   "source": [
    "# Comparing NumPy and TensorFlow Probability Distributions\n",
    "\n",
    "This notebook demonstrates the implementation and comparison of three probability distributions (Gamma, Exponential, and Poisson) using both NumPy and TensorFlow Probability libraries.\n",
    "\n",
    "## Setup and Imports\n"
   ]
  },
  {
   "cell_type": "code",
   "execution_count": 2,
   "metadata": {},
   "outputs": [
    {
     "ename": "ImportError",
     "evalue": "This version of TensorFlow Probability requires TensorFlow version >= 2.18; Detected an installation of version 2.16.2. Please upgrade TensorFlow to proceed.",
     "output_type": "error",
     "traceback": [
      "\u001b[31m---------------------------------------------------------------------------\u001b[39m",
      "\u001b[31mImportError\u001b[39m                               Traceback (most recent call last)",
      "\u001b[36mCell\u001b[39m\u001b[36m \u001b[39m\u001b[32mIn[2]\u001b[39m\u001b[32m, line 3\u001b[39m\n\u001b[32m      1\u001b[39m \u001b[38;5;28;01mimport\u001b[39;00m\u001b[38;5;250m \u001b[39m\u001b[34;01mnumpy\u001b[39;00m\u001b[38;5;250m \u001b[39m\u001b[38;5;28;01mas\u001b[39;00m\u001b[38;5;250m \u001b[39m\u001b[34;01mnp\u001b[39;00m\n\u001b[32m      2\u001b[39m \u001b[38;5;28;01mimport\u001b[39;00m\u001b[38;5;250m \u001b[39m\u001b[34;01mtensorflow\u001b[39;00m\u001b[38;5;250m \u001b[39m\u001b[38;5;28;01mas\u001b[39;00m\u001b[38;5;250m \u001b[39m\u001b[34;01mtf\u001b[39;00m\n\u001b[32m----> \u001b[39m\u001b[32m3\u001b[39m \u001b[38;5;28;01mimport\u001b[39;00m\u001b[38;5;250m \u001b[39m\u001b[34;01mtensorflow_probability\u001b[39;00m\u001b[38;5;250m \u001b[39m\u001b[38;5;28;01mas\u001b[39;00m\u001b[38;5;250m \u001b[39m\u001b[34;01mtfp\u001b[39;00m\n\u001b[32m      4\u001b[39m \u001b[38;5;28;01mimport\u001b[39;00m\u001b[38;5;250m \u001b[39m\u001b[34;01mmatplotlib\u001b[39;00m\u001b[34;01m.\u001b[39;00m\u001b[34;01mpyplot\u001b[39;00m\u001b[38;5;250m \u001b[39m\u001b[38;5;28;01mas\u001b[39;00m\u001b[38;5;250m \u001b[39m\u001b[34;01mplt\u001b[39;00m\n",
      "\u001b[36mFile \u001b[39m\u001b[32m~/.cursor-tutor/.venv/lib/python3.11/site-packages/tensorflow_probability/__init__.py:22\u001b[39m\n\u001b[32m     15\u001b[39m \u001b[33;03m\"\"\"Tools for probabilistic reasoning in TensorFlow.\"\"\"\u001b[39;00m\n\u001b[32m     17\u001b[39m \u001b[38;5;66;03m# Contributors to the `python/` dir should not alter this file; instead update\u001b[39;00m\n\u001b[32m     18\u001b[39m \u001b[38;5;66;03m# `python/__init__.py` as necessary.\u001b[39;00m\n\u001b[32m     19\u001b[39m \n\u001b[32m     20\u001b[39m \u001b[38;5;66;03m# from tensorflow_probability.google import staging  # DisableOnExport\u001b[39;00m\n\u001b[32m     21\u001b[39m \u001b[38;5;66;03m# from tensorflow_probability.google import tfp_google  # DisableOnExport\u001b[39;00m\n\u001b[32m---> \u001b[39m\u001b[32m22\u001b[39m \u001b[38;5;28;01mfrom\u001b[39;00m\u001b[38;5;250m \u001b[39m\u001b[34;01mtensorflow_probability\u001b[39;00m\u001b[34;01m.\u001b[39;00m\u001b[34;01mpython\u001b[39;00m\u001b[38;5;250m \u001b[39m\u001b[38;5;28;01mimport\u001b[39;00m *  \u001b[38;5;66;03m# pylint: disable=wildcard-import\u001b[39;00m\n\u001b[32m     23\u001b[39m \u001b[38;5;28;01mfrom\u001b[39;00m\u001b[38;5;250m \u001b[39m\u001b[34;01mtensorflow_probability\u001b[39;00m\u001b[34;01m.\u001b[39;00m\u001b[34;01mpython\u001b[39;00m\u001b[34;01m.\u001b[39;00m\u001b[34;01mversion\u001b[39;00m\u001b[38;5;250m \u001b[39m\u001b[38;5;28;01mimport\u001b[39;00m __version__\n\u001b[32m     25\u001b[39m \u001b[38;5;66;03m# tfp_google.bind(globals())  # DisableOnExport\u001b[39;00m\n\u001b[32m     26\u001b[39m \u001b[38;5;66;03m# del tfp_google  # DisableOnExport\u001b[39;00m\n",
      "\u001b[36mFile \u001b[39m\u001b[32m~/.cursor-tutor/.venv/lib/python3.11/site-packages/tensorflow_probability/python/__init__.py:152\u001b[39m\n\u001b[32m    149\u001b[39m \u001b[38;5;28;01mif\u001b[39;00m _tf_loaded():\n\u001b[32m    150\u001b[39m   \u001b[38;5;66;03m# Non-lazy load of packages that register with tensorflow or keras.\u001b[39;00m\n\u001b[32m    151\u001b[39m   \u001b[38;5;28;01mfor\u001b[39;00m pkg_name \u001b[38;5;129;01min\u001b[39;00m _maybe_nonlazy_load:\n\u001b[32m--> \u001b[39m\u001b[32m152\u001b[39m     \u001b[38;5;28;43mdir\u001b[39;49m\u001b[43m(\u001b[49m\u001b[38;5;28;43mglobals\u001b[39;49m\u001b[43m(\u001b[49m\u001b[43m)\u001b[49m\u001b[43m[\u001b[49m\u001b[43mpkg_name\u001b[49m\u001b[43m]\u001b[49m\u001b[43m)\u001b[49m  \u001b[38;5;66;03m# Forces loading the package from its lazy loader.\u001b[39;00m\n\u001b[32m    155\u001b[39m all_util.remove_undocumented(\u001b[34m__name__\u001b[39m, _lazy_load + _maybe_nonlazy_load)\n",
      "\u001b[36mFile \u001b[39m\u001b[32m~/.cursor-tutor/.venv/lib/python3.11/site-packages/tensorflow_probability/python/internal/lazy_loader.py:60\u001b[39m, in \u001b[36mLazyLoader.__dir__\u001b[39m\u001b[34m(self)\u001b[39m\n\u001b[32m     59\u001b[39m \u001b[38;5;28;01mdef\u001b[39;00m\u001b[38;5;250m \u001b[39m\u001b[34m__dir__\u001b[39m(\u001b[38;5;28mself\u001b[39m):\n\u001b[32m---> \u001b[39m\u001b[32m60\u001b[39m   module = \u001b[38;5;28;43mself\u001b[39;49m\u001b[43m.\u001b[49m\u001b[43m_load\u001b[49m\u001b[43m(\u001b[49m\u001b[43m)\u001b[49m\n\u001b[32m     61\u001b[39m   \u001b[38;5;28;01mreturn\u001b[39;00m \u001b[38;5;28mdir\u001b[39m(module)\n",
      "\u001b[36mFile \u001b[39m\u001b[32m~/.cursor-tutor/.venv/lib/python3.11/site-packages/tensorflow_probability/python/internal/lazy_loader.py:40\u001b[39m, in \u001b[36mLazyLoader._load\u001b[39m\u001b[34m(self)\u001b[39m\n\u001b[32m     38\u001b[39m \u001b[38;5;250m\u001b[39m\u001b[33;03m\"\"\"Load the module and insert it into the parent's globals.\"\"\"\u001b[39;00m\n\u001b[32m     39\u001b[39m \u001b[38;5;28;01mif\u001b[39;00m \u001b[38;5;28mcallable\u001b[39m(\u001b[38;5;28mself\u001b[39m._on_first_access):\n\u001b[32m---> \u001b[39m\u001b[32m40\u001b[39m   \u001b[38;5;28;43mself\u001b[39;49m\u001b[43m.\u001b[49m\u001b[43m_on_first_access\u001b[49m\u001b[43m(\u001b[49m\u001b[43m)\u001b[49m\n\u001b[32m     41\u001b[39m   \u001b[38;5;28mself\u001b[39m._on_first_access = \u001b[38;5;28;01mNone\u001b[39;00m\n\u001b[32m     42\u001b[39m \u001b[38;5;66;03m# Import the target module and insert it into the parent's namespace\u001b[39;00m\n",
      "\u001b[36mFile \u001b[39m\u001b[32m~/.cursor-tutor/.venv/lib/python3.11/site-packages/tensorflow_probability/python/__init__.py:59\u001b[39m, in \u001b[36m_validate_tf_environment\u001b[39m\u001b[34m(package)\u001b[39m\n\u001b[32m     55\u001b[39m \u001b[38;5;66;03m#   required_tensorflow_version = '1.15'  # Needed internally -- DisableOnExport\u001b[39;00m\n\u001b[32m     57\u001b[39m   \u001b[38;5;28;01mif\u001b[39;00m (distutils.version.LooseVersion(tf.__version__) <\n\u001b[32m     58\u001b[39m       distutils.version.LooseVersion(required_tensorflow_version)):\n\u001b[32m---> \u001b[39m\u001b[32m59\u001b[39m     \u001b[38;5;28;01mraise\u001b[39;00m \u001b[38;5;167;01mImportError\u001b[39;00m(\n\u001b[32m     60\u001b[39m         \u001b[33m'\u001b[39m\u001b[33mThis version of TensorFlow Probability requires TensorFlow \u001b[39m\u001b[33m'\u001b[39m\n\u001b[32m     61\u001b[39m         \u001b[33m'\u001b[39m\u001b[33mversion >= \u001b[39m\u001b[38;5;132;01m{required}\u001b[39;00m\u001b[33m; Detected an installation of version \u001b[39m\u001b[38;5;132;01m{present}\u001b[39;00m\u001b[33m. \u001b[39m\u001b[33m'\u001b[39m\n\u001b[32m     62\u001b[39m         \u001b[33m'\u001b[39m\u001b[33mPlease upgrade TensorFlow to proceed.\u001b[39m\u001b[33m'\u001b[39m.format(\n\u001b[32m     63\u001b[39m             required=required_tensorflow_version,\n\u001b[32m     64\u001b[39m             present=tf.__version__))\n\u001b[32m     66\u001b[39m   \u001b[38;5;28;01mif\u001b[39;00m (package == \u001b[33m'\u001b[39m\u001b[33mmcmc\u001b[39m\u001b[33m'\u001b[39m \u001b[38;5;129;01mand\u001b[39;00m\n\u001b[32m     67\u001b[39m       tf.config.experimental.tensor_float_32_execution_enabled()):\n\u001b[32m     68\u001b[39m     \u001b[38;5;66;03m# Must import here, because symbols get pruned to __all__.\u001b[39;00m\n\u001b[32m     69\u001b[39m     \u001b[38;5;28;01mimport\u001b[39;00m\u001b[38;5;250m \u001b[39m\u001b[34;01mwarnings\u001b[39;00m\n",
      "\u001b[31mImportError\u001b[39m: This version of TensorFlow Probability requires TensorFlow version >= 2.18; Detected an installation of version 2.16.2. Please upgrade TensorFlow to proceed."
     ]
    }
   ],
   "source": [
    "import numpy as np\n",
    "import tensorflow as tf\n",
    "import tensorflow_probability as tfp\n",
    "import matplotlib.pyplot as plt"
   ]
  },
  {
   "cell_type": "markdown",
   "metadata": {},
   "source": [
    "### Set random seeds for reproducibility"
   ]
  },
  {
   "cell_type": "code",
   "execution_count": 1,
   "metadata": {},
   "outputs": [
    {
     "ename": "NameError",
     "evalue": "name 'np' is not defined",
     "output_type": "error",
     "traceback": [
      "\u001b[31m---------------------------------------------------------------------------\u001b[39m",
      "\u001b[31mNameError\u001b[39m                                 Traceback (most recent call last)",
      "\u001b[36mCell\u001b[39m\u001b[36m \u001b[39m\u001b[32mIn[1]\u001b[39m\u001b[32m, line 1\u001b[39m\n\u001b[32m----> \u001b[39m\u001b[32m1\u001b[39m \u001b[43mnp\u001b[49m.random.seed(\u001b[32m42\u001b[39m)\n\u001b[32m      2\u001b[39m tf.random.set_seed(\u001b[32m42\u001b[39m)\n",
      "\u001b[31mNameError\u001b[39m: name 'np' is not defined"
     ]
    }
   ],
   "source": [
    "np.random.seed(42)\n",
    "tf.random.set_seed(42)"
   ]
  },
  {
   "cell_type": "markdown",
   "metadata": {},
   "source": [
    "\n",
    "## Generating Samples from Different Distributions\n",
    "\n",
    "### NumPy Implementation\n",
    "We'll generate 1000 samples from each distribution using NumPy's random number generators.\n"
   ]
  },
  {
   "cell_type": "code",
   "execution_count": null,
   "metadata": {},
   "outputs": [],
   "source": [
    "gamma_sample = np.random.gamma(shape=2.0, scale=2.0, size=1000) # Gamma distribution with shape=2, scale=2\n",
    "exp_sample = np.random.exponential(scale=2.0, size=1000) # Exponential distribution with scale=2\n",
    "poisson_sample = np.random.poisson(lam=5.0, size=1000) # Poisson distribution with mean=5"
   ]
  },
  {
   "cell_type": "markdown",
   "metadata": {},
   "source": [
    "\n",
    "### TensorFlow Probability Implementation\n",
    "Now we'll create the same distributions using TensorFlow Probability and generate samples.\n"
   ]
  },
  {
   "cell_type": "code",
   "execution_count": null,
   "metadata": {},
   "outputs": [],
   "source": [
    "tf_gamma = tfp.distributions.Gamma(concentration=2.0, rate=1/2.0) # rate is inverse of scale\n",
    "tf_exp = tfp.distributions.Exponential(rate=1/2.0) # rate is inverse of scale\n",
    "tf_poisson = tfp.distributions.Poisson(rate=5.0) # rate parameter is equivalent to lambda in NumPy"
   ]
  },
  {
   "cell_type": "markdown",
   "metadata": {},
   "source": [
    "\n",
    "### Generate samples"
   ]
  },
  {
   "cell_type": "code",
   "execution_count": null,
   "metadata": {},
   "outputs": [],
   "source": [
    "try:\n",
    "    tf_gamma_sample = tf_gamma.sample(1000)\n",
    "except tf.errors.InvalidArgumentError as e:\n",
    "    print(f\"Error sampling from gamma distribution: {e}\")\n",
    "tf_exp_sample = tf_exp.sample(1000)\n",
    "tf_poisson_sample = tf_poisson.sample(1000)"
   ]
  },
  {
   "cell_type": "markdown",
   "metadata": {},
   "source": [
    "\n",
    "## Visualization\n",
    "We'll create plots comparing the distributions from both libraries along with their theoretical PDFs/PMFs.\n"
   ]
  },
  {
   "cell_type": "markdown",
   "metadata": {},
   "source": [
    "### Create subplots"
   ]
  },
  {
   "cell_type": "code",
   "execution_count": null,
   "metadata": {},
   "outputs": [],
   "source": [
    "\n",
    "fig, ((ax1, ax2), (ax3, ax4), (ax5, ax6)) = plt.subplots(3, 2, figsize=(12, 15))"
   ]
  },
  {
   "cell_type": "markdown",
   "metadata": {},
   "source": [
    "### Gamma plots"
   ]
  },
  {
   "cell_type": "code",
   "execution_count": null,
   "metadata": {},
   "outputs": [],
   "source": [
    "ax1.hist(gamma_sample, bins=30, density=True, alpha=0.7, color='blue', label='NumPy')\n",
    "ax1.set_title('NumPy Gamma Distribution')\n",
    "ax1.set_xlabel('Value')\n",
    "ax1.set_ylabel('Density')\n",
    "ax1.legend()\n",
    "ax2.hist(tf_gamma_sample, bins=30, density=True, alpha=0.7, color='red', label='TensorFlow')\n",
    "ax2.set_title('TensorFlow Gamma Distribution')\n",
    "ax2.set_xlabel('Value')\n",
    "ax2.set_ylabel('Density')\n",
    "ax2.legend()"
   ]
  },
  {
   "cell_type": "markdown",
   "metadata": {},
   "source": [
    "### Add theoretical PDFs for Gamma"
   ]
  },
  {
   "cell_type": "code",
   "execution_count": null,
   "metadata": {},
   "outputs": [],
   "source": [
    "x = np.linspace(0, 15, 100)\n",
    "gamma_pdf = tf_gamma.prob(x)\n",
    "ax1.plot(x, gamma_pdf, 'k-', label='PDF')\n",
    "ax2.plot(x, gamma_pdf, 'k-', label='PDF')"
   ]
  },
  {
   "cell_type": "markdown",
   "metadata": {},
   "source": [
    "\n",
    "### Exponential plots"
   ]
  },
  {
   "cell_type": "code",
   "execution_count": null,
   "metadata": {},
   "outputs": [],
   "source": [
    "ax3.hist(exp_sample, bins=30, density=True, alpha=0.7, color='blue', label='NumPy')\n",
    "ax3.set_title('NumPy Exponential Distribution')\n",
    "ax3.set_xlabel('Value')\n",
    "ax3.set_ylabel('Density')\n",
    "ax3.legend()\n",
    "ax4.hist(tf_exp_sample, bins=30, density=True, alpha=0.7, color='red', label='TensorFlow')\n",
    "ax4.set_title('TensorFlow Exponential Distribution')\n",
    "ax4.set_xlabel('Value')\n",
    "ax4.set_ylabel('Density')\n",
    "ax4.legend()"
   ]
  },
  {
   "cell_type": "markdown",
   "metadata": {},
   "source": [
    "\n",
    "### Add theoretical PDFs for Exponential"
   ]
  },
  {
   "cell_type": "code",
   "execution_count": null,
   "metadata": {},
   "outputs": [],
   "source": [
    "exp_pdf = tf_exp.prob(x)\n",
    "ax3.plot(x, exp_pdf, 'k-', label='PDF')\n",
    "ax4.plot(x, exp_pdf, 'k-', label='PDF')"
   ]
  },
  {
   "cell_type": "markdown",
   "metadata": {},
   "source": [
    "### Poisson plots"
   ]
  },
  {
   "cell_type": "code",
   "execution_count": null,
   "metadata": {},
   "outputs": [],
   "source": [
    "ax5.hist(poisson_sample, bins=30, density=True, alpha=0.7, color='blue', label='NumPy')\n",
    "ax5.set_title('NumPy Poisson Distribution')\n",
    "ax5.set_xlabel('Value')\n",
    "ax5.set_ylabel('Density')\n",
    "ax5.legend()\n",
    "ax6.hist(tf_poisson_sample, bins=30, density=True, alpha=0.7, color='red', label='TensorFlow')\n",
    "ax6.set_title('TensorFlow Poisson Distribution')\n",
    "ax6.set_xlabel('Value')\n",
    "ax6.set_ylabel('Density')\n",
    "ax6.legend()"
   ]
  },
  {
   "cell_type": "markdown",
   "metadata": {},
   "source": [
    "\n",
    "### Add theoretical PMFs for Poisson"
   ]
  },
  {
   "cell_type": "code",
   "execution_count": null,
   "metadata": {},
   "outputs": [],
   "source": [
    "x_poisson = np.arange(0, 15)\n",
    "poisson_pmf = tf_poisson.prob(x_poisson)\n",
    "ax5.plot(x_poisson, poisson_pmf, 'k-', label='PMF')\n",
    "ax6.plot(x_poisson, poisson_pmf, 'k-', label='PMF')\n",
    "plt.tight_layout()\n",
    "plt.show()"
   ]
  },
  {
   "cell_type": "markdown",
   "metadata": {},
   "source": [
    "\n",
    "## Statistical Comparison\n",
    "\n",
    "Let's compare the statistical properties of our samples and calculate the KL divergence between the NumPy and TensorFlow implementations.\n"
   ]
  },
  {
   "cell_type": "markdown",
   "metadata": {},
   "source": [
    "\n",
    "### Define KL divergence calculation function"
   ]
  },
  {
   "cell_type": "code",
   "execution_count": null,
   "metadata": {},
   "outputs": [],
   "source": [
    "def calculate_kl_divergence(p, q, bins=30):\n",
    "    hist_p, = np.histogram(p, bins=bins, density=True)\n",
    "    hist_q, = np.histogram(q, bins=bins, density=True)\n",
    "    # Add small constant to avoid division by zero\n",
    "    hist_p = hist_p + 1e-10\n",
    "    hist_q = hist_q + 1e-10\n",
    "    return np.sum(hist_p * np.log(hist_p / hist_q))"
   ]
  },
  {
   "cell_type": "markdown",
   "metadata": {},
   "source": [
    "\n",
    "### Print statistical comparisons"
   ]
  },
  {
   "cell_type": "code",
   "execution_count": null,
   "metadata": {},
   "outputs": [],
   "source": [
    "print(\"Gamma Distribution:\")\n",
    "print(f\"NumPy - Mean: {np.mean(gamma_sample):.2f}, Var: {np.var(gamma_sample):.2f}\")\n",
    "print(f\"TF - Mean: {tf.reduce_mean(tf_gamma_sample):.2f}, Var: {tf.math.reduce_variance(tf_gamma_sample):.2f}\")\n",
    "print(f\"Theory- Mean: {2.0 * 2.0:.2f}, Var: {2.0 (2.02):.2f}\")"
   ]
  },
  {
   "cell_type": "markdown",
   "metadata": {},
   "source": [
    "\n",
    "### Calculate KL divergence"
   ]
  },
  {
   "cell_type": "code",
   "execution_count": null,
   "metadata": {},
   "outputs": [],
   "source": [
    "kl_gamma = calculate_kl_divergence(gamma_sample, tf_gamma_sample)\n",
    "print(f\"KL Divergence (Gamma): {kl_gamma:.4f}\")"
   ]
  }
 ],
 "metadata": {
  "kernelspec": {
   "display_name": ".venv",
   "language": "python",
   "name": "python3"
  },
  "language_info": {
   "codemirror_mode": {
    "name": "ipython",
    "version": 3
   },
   "file_extension": ".py",
   "mimetype": "text/x-python",
   "name": "python",
   "nbconvert_exporter": "python",
   "pygments_lexer": "ipython3",
   "version": "3.11.10"
  }
 },
 "nbformat": 4,
 "nbformat_minor": 2
}

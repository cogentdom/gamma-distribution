{
 "cells": [
  {
   "cell_type": "markdown",
   "metadata": {},
   "source": [
    "# Comparing NumPy and TensorFlow Probability Distributions\n",
    "\n",
    "This notebook demonstrates the implementation and comparison of three probability distributions (Gamma, Exponential, and Poisson) using both NumPy and TensorFlow Probability libraries.\n",
    "\n",
    "## Setup and Imports\n"
   ]
  },
  {
   "cell_type": "code",
   "execution_count": null,
   "metadata": {},
   "outputs": [],
   "source": [
    "\n",
    "import numpy as np\n",
    "import tensorflow as tf\n",
    "import tensorflow_probability as tfp\n",
    "import matplotlib.pyplot as plt"
   ]
  },
  {
   "cell_type": "markdown",
   "metadata": {},
   "source": [
    "### Set random seeds for reproducibility"
   ]
  },
  {
   "cell_type": "code",
   "execution_count": null,
   "metadata": {},
   "outputs": [],
   "source": [
    "np.random.seed(42)\n",
    "tf.random.set_seed(42)"
   ]
  },
  {
   "cell_type": "markdown",
   "metadata": {},
   "source": [
    "\n",
    "## Generating Samples from Different Distributions\n",
    "\n",
    "### NumPy Implementation\n",
    "We'll generate 1000 samples from each distribution using NumPy's random number generators.\n"
   ]
  },
  {
   "cell_type": "code",
   "execution_count": null,
   "metadata": {},
   "outputs": [],
   "source": [
    "gamma_sample = np.random.gamma(shape=2.0, scale=2.0, size=1000) # Gamma distribution with shape=2, scale=2\n",
    "exp_sample = np.random.exponential(scale=2.0, size=1000) # Exponential distribution with scale=2\n",
    "poisson_sample = np.random.poisson(lam=5.0, size=1000) # Poisson distribution with mean=5"
   ]
  },
  {
   "cell_type": "markdown",
   "metadata": {},
   "source": [
    "\n",
    "### TensorFlow Probability Implementation\n",
    "Now we'll create the same distributions using TensorFlow Probability and generate samples.\n"
   ]
  },
  {
   "cell_type": "code",
   "execution_count": null,
   "metadata": {},
   "outputs": [],
   "source": [
    "tf_gamma = tfp.distributions.Gamma(concentration=2.0, rate=1/2.0) # rate is inverse of scale\n",
    "tf_exp = tfp.distributions.Exponential(rate=1/2.0) # rate is inverse of scale\n",
    "tf_poisson = tfp.distributions.Poisson(rate=5.0) # rate parameter is equivalent to lambda in NumPy"
   ]
  },
  {
   "cell_type": "markdown",
   "metadata": {},
   "source": [
    "\n",
    "### Generate samples"
   ]
  },
  {
   "cell_type": "code",
   "execution_count": null,
   "metadata": {},
   "outputs": [],
   "source": [
    "tf_gamma_sample = tf_gamma.sample(1000)\n",
    "except tf.errors.InvalidArgumentError as e:\n",
    "print(f\"Error sampling from gamma distribution: {e}\")\n",
    "tf_exp_sample = tf_exp.sample(1000)\n",
    "tf_poisson_sample = tf_poisson.sample(1000)"
   ]
  },
  {
   "cell_type": "markdown",
   "metadata": {},
   "source": [
    "\n",
    "## Visualization\n",
    "We'll create plots comparing the distributions from both libraries along with their theoretical PDFs/PMFs.\n"
   ]
  },
  {
   "cell_type": "markdown",
   "metadata": {},
   "source": [
    "### Create subplots"
   ]
  },
  {
   "cell_type": "code",
   "execution_count": null,
   "metadata": {},
   "outputs": [],
   "source": [
    "\n",
    "fig, ((ax1, ax2), (ax3, ax4), (ax5, ax6)) = plt.subplots(3, 2, figsize=(12, 15))"
   ]
  },
  {
   "cell_type": "markdown",
   "metadata": {},
   "source": [
    "### Gamma plots"
   ]
  },
  {
   "cell_type": "code",
   "execution_count": null,
   "metadata": {},
   "outputs": [],
   "source": [
    "ax1.hist(gamma_sample, bins=30, density=True, alpha=0.7, color='blue', label='NumPy')\n",
    "ax1.set_title('NumPy Gamma Distribution')\n",
    "ax1.set_xlabel('Value')\n",
    "ax1.set_ylabel('Density')\n",
    "ax1.legend()\n",
    "ax2.hist(tf_gamma_sample, bins=30, density=True, alpha=0.7, color='red', label='TensorFlow')\n",
    "ax2.set_title('TensorFlow Gamma Distribution')\n",
    "ax2.set_xlabel('Value')\n",
    "ax2.set_ylabel('Density')\n",
    "ax2.legend()"
   ]
  },
  {
   "cell_type": "markdown",
   "metadata": {},
   "source": [
    "### Add theoretical PDFs for Gamma"
   ]
  },
  {
   "cell_type": "code",
   "execution_count": null,
   "metadata": {},
   "outputs": [],
   "source": [
    "x = np.linspace(0, 15, 100)\n",
    "gamma_pdf = tf_gamma.prob(x)\n",
    "ax1.plot(x, gamma_pdf, 'k-', label='PDF')\n",
    "ax2.plot(x, gamma_pdf, 'k-', label='PDF')"
   ]
  },
  {
   "cell_type": "markdown",
   "metadata": {},
   "source": [
    "\n",
    "### Exponential plots"
   ]
  },
  {
   "cell_type": "code",
   "execution_count": null,
   "metadata": {},
   "outputs": [],
   "source": [
    "ax3.hist(exp_sample, bins=30, density=True, alpha=0.7, color='blue', label='NumPy')\n",
    "ax3.set_title('NumPy Exponential Distribution')\n",
    "ax3.set_xlabel('Value')\n",
    "ax3.set_ylabel('Density')\n",
    "ax3.legend()\n",
    "ax4.hist(tf_exp_sample, bins=30, density=True, alpha=0.7, color='red', label='TensorFlow')\n",
    "ax4.set_title('TensorFlow Exponential Distribution')\n",
    "ax4.set_xlabel('Value')\n",
    "ax4.set_ylabel('Density')\n",
    "ax4.legend()"
   ]
  },
  {
   "cell_type": "markdown",
   "metadata": {},
   "source": [
    "\n",
    "### Add theoretical PDFs for Exponential"
   ]
  },
  {
   "cell_type": "code",
   "execution_count": null,
   "metadata": {},
   "outputs": [],
   "source": [
    "exp_pdf = tf_exp.prob(x)\n",
    "ax3.plot(x, exp_pdf, 'k-', label='PDF')\n",
    "ax4.plot(x, exp_pdf, 'k-', label='PDF')"
   ]
  },
  {
   "cell_type": "markdown",
   "metadata": {},
   "source": [
    "### Poisson plots"
   ]
  },
  {
   "cell_type": "code",
   "execution_count": null,
   "metadata": {},
   "outputs": [],
   "source": [
    "ax5.hist(poisson_sample, bins=30, density=True, alpha=0.7, color='blue', label='NumPy')\n",
    "ax5.set_title('NumPy Poisson Distribution')\n",
    "ax5.set_xlabel('Value')\n",
    "ax5.set_ylabel('Density')\n",
    "ax5.legend()\n",
    "ax6.hist(tf_poisson_sample, bins=30, density=True, alpha=0.7, color='red', label='TensorFlow')\n",
    "ax6.set_title('TensorFlow Poisson Distribution')\n",
    "ax6.set_xlabel('Value')\n",
    "ax6.set_ylabel('Density')\n",
    "ax6.legend()"
   ]
  },
  {
   "cell_type": "markdown",
   "metadata": {},
   "source": [
    "\n",
    "### Add theoretical PMFs for Poisson"
   ]
  },
  {
   "cell_type": "code",
   "execution_count": null,
   "metadata": {},
   "outputs": [],
   "source": [
    "x_poisson = np.arange(0, 15)\n",
    "poisson_pmf = tf_poisson.prob(x_poisson)\n",
    "ax5.plot(x_poisson, poisson_pmf, 'k-', label='PMF')\n",
    "ax6.plot(x_poisson, poisson_pmf, 'k-', label='PMF')\n",
    "plt.tight_layout()\n",
    "plt.show()"
   ]
  },
  {
   "cell_type": "markdown",
   "metadata": {},
   "source": [
    "\n",
    "## Statistical Comparison\n",
    "\n",
    "Let's compare the statistical properties of our samples and calculate the KL divergence between the NumPy and TensorFlow implementations.\n"
   ]
  },
  {
   "cell_type": "markdown",
   "metadata": {},
   "source": [
    "\n",
    "### Define KL divergence calculation function"
   ]
  },
  {
   "cell_type": "code",
   "execution_count": null,
   "metadata": {},
   "outputs": [],
   "source": [
    "def calculate_kl_divergence(p, q, bins=30):\n",
    "hist_p, = np.histogram(p, bins=bins, density=True)\n",
    "hist_q, = np.histogram(q, bins=bins, density=True)\n",
    "# Add small constant to avoid division by zero\n",
    "hist_p = hist_p + 1e-10\n",
    "hist_q = hist_q + 1e-10\n",
    "return np.sum(hist_p np.log(hist_p / hist_q))"
   ]
  },
  {
   "cell_type": "markdown",
   "metadata": {},
   "source": [
    "\n",
    "### Print statistical comparisons"
   ]
  },
  {
   "cell_type": "code",
   "execution_count": null,
   "metadata": {},
   "outputs": [],
   "source": [
    "print(\"Gamma Distribution:\")\n",
    "print(f\"NumPy - Mean: {np.mean(gamma_sample):.2f}, Var: {np.var(gamma_sample):.2f}\")\n",
    "print(f\"TF - Mean: {tf.reduce_mean(tf_gamma_sample):.2f}, Var: {tf.math.reduce_variance(tf_gamma_sample):.2f}\")\n",
    "print(f\"Theory- Mean: {2.0 2.0:.2f}, Var: {2.0 (2.02):.2f}\")"
   ]
  },
  {
   "cell_type": "markdown",
   "metadata": {},
   "source": [
    "\n",
    "### Calculate KL divergence"
   ]
  },
  {
   "cell_type": "code",
   "execution_count": null,
   "metadata": {},
   "outputs": [],
   "source": [
    "kl_gamma = calculate_kl_divergence(gamma_sample, tf_gamma_sample)\n",
    "print(f\"KL Divergence (Gamma): {kl_gamma:.4f}\")"
   ]
  }
 ],
 "metadata": {
  "language_info": {
   "name": "python"
  }
 },
 "nbformat": 4,
 "nbformat_minor": 2
}
